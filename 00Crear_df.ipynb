{
  "nbformat": 4,
  "nbformat_minor": 0,
  "metadata": {
    "colab": {
      "provenance": [],
      "authorship_tag": "ABX9TyPtpkdWaswHmzimBs3pGuY5",
      "include_colab_link": true
    },
    "kernelspec": {
      "name": "python3",
      "display_name": "Python 3"
    },
    "language_info": {
      "name": "python"
    }
  },
  "cells": [
    {
      "cell_type": "markdown",
      "metadata": {
        "id": "view-in-github",
        "colab_type": "text"
      },
      "source": [
        "<a href=\"https://colab.research.google.com/github/WillianFranco17/BootcampCT/blob/main/00Crear_df.ipynb\" target=\"_parent\"><img src=\"https://colab.research.google.com/assets/colab-badge.svg\" alt=\"Open In Colab\"/></a>"
      ]
    },
    {
      "cell_type": "code",
      "execution_count": null,
      "metadata": {
        "id": "kyuzMZSwhKbC"
      },
      "outputs": [],
      "source": [
        "import pandas as pd"
      ]
    },
    {
      "cell_type": "code",
      "source": [
        "df1 = pd.DataFrame([\n",
        "    [1, 144.5, 5.9, 33, 'M'],\n",
        "    [2, 167.2, 5.4, 45, 'M'],\n",
        "    [3, 124.1, 5.2, 23, 'F'],\n",
        "    [4, 144.5, 5.9, 33, 'M'],\n",
        "    [5, 133.2, 5.7, 54, 'F'],\n",
        "    [3, 124.1, 5.2, 23, 'F'],\n",
        "    [5, 129.2, 5.3, 42, 'M']\n",
        "], columns = ['id', 'weight', 'height', 'age', 'gender'])\n",
        "\n",
        "df1.to_csv('dataframe1.csv', index=False, sep=\",\")"
      ],
      "metadata": {
        "id": "fYPm-QfZhSt1"
      },
      "execution_count": null,
      "outputs": []
    },
    {
      "cell_type": "code",
      "source": [
        "df2 = pd.DataFrame([\n",
        "    [1, 143.5, 5.3, 28],\n",
        "    [2, 154.2, 5.5, 45],\n",
        "    [3, 342.3, 5.1, 99],\n",
        "    [4, 144.5, 5.5, 33],\n",
        "    [5, 133.2, 5.4, 54],\n",
        "    [6, 124.1, 5.1, 21],\n",
        "    [7, 129.2, 5.3, 42]\n",
        "], columns = ['id', 'weight', 'height', 'age'])\n",
        "\n",
        "df2.to_csv('dataframe2.csv', index=False, sep=\",\")"
      ],
      "metadata": {
        "id": "tyo3OdHEi9pH"
      },
      "execution_count": null,
      "outputs": []
    },
    {
      "cell_type": "code",
      "source": [
        "df3 = pd.DataFrame([\n",
        "    [1, 143.5, 5.6, 28, 'M', 100000],\n",
        "    [2, 167.2, 5.4, 45, 'M', None],\n",
        "    [3, None, 5.2, None, None, None],\n",
        "    [4, 144.5, 5.9, 33, 'M', None],\n",
        "    [5, 133.2, 5.7, 54, 'F', None],\n",
        "    [6, 124.1, 5.2, None, 'F', None],\n",
        "    [7, 129.2, 5.3, 42, 'M', 70000]\n",
        "], columns = ['id', 'weight', 'height', 'age', 'gender', 'income'])\n",
        "\n",
        "df3.to_csv('dataframe3.csv', index=False, sep=\",\")"
      ],
      "metadata": {
        "id": "srV9rmNkj4JI"
      },
      "execution_count": null,
      "outputs": []
    },
    {
      "cell_type": "markdown",
      "source": [
        "#Estructura General\n",
        "\n",
        "Tipo de datos:   \n",
        "Cada dataframe cuenta con un identificador unico (id), datos numericos (weight, height, age, income), y caracteres (gender); en el dataframe3 se aprecia que existen campos vacios.\n",
        "\n",
        "Cantidad de datos:  \n",
        "-DataFrame1: 35  \n",
        "-DataFrame2: 28  \n",
        "-DataFrame3: 42 (incluyendo datos vacios)\n",
        "\n",
        "Patrones:  \n",
        "En todos los dataframes se aprecia un patron en su estructura en sus columnas en las 4 primeras, el rango en el peso y la altura es muy similar en la mayoria de sus datos.\n",
        "\n",
        "Datos atipicos:  \n",
        "-DataFrame1: Presenta dos filas con el mismo id (5,3), en el caso del '3' es una fila repetida con los datos identicos a los del primer '3' en la tabla, en el caso del '5' todos los datos son diferentes.  \n",
        "-DataFrame2: En la fila con el id '3' la columna de peso y edad presentan datos que no coincidem con los rangos que tiene cada una de las columnas en este dataframe.  \n",
        "-DataFrame3: Este dataframe presenta mucha informacion faltante, lo cual inpediria hacer un analisis efectivo en el caso que se requiera la columna en donde hay un gran numero de datos faltantes.  \n",
        "\n",
        "Datos faltantes:  \n",
        "El dataframe3 es el que presenta datos faltante, la fila 3 es la que mas datos faltantes presenta, y en la columna de 'income' tambien presenta una gran cantidad de datos faltantes.\n"
      ],
      "metadata": {
        "id": "8rYsrp6hn4dK"
      }
    }
  ]
}